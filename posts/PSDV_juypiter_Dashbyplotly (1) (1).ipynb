{
 "cells": [
  {
   "cell_type": "raw",
   "metadata": {
    "vscode": {
     "languageId": "raw"
    }
   },
   "source": [
    "---\n",
    "author: Ujas Shah <br> Dhrumil Bhutaiya <br> Dhanraj Visapara\n",
    "badges: true\n",
    "categories:\n",
    "- Data Visualisation\n",
    "date: '2025-02-23'\n",
    "title: Data Visualisation through interactive dashboards from Dash by Plotly\n",
    "toc: true\n",
    "---"
   ]
  },
  {
   "cell_type": "markdown",
   "metadata": {},
   "source": [
    "<br>"
   ]
  },
  {
   "cell_type": "markdown",
   "metadata": {},
   "source": [
    "<center>\n",
    "    <img src=\"https://raw.githubusercontent.com/Ujas-IITGN/PSDV-Assignement4-Dash-Plotly/master/posts/dash_logo_final.png\" alt=\"Alt Text\" width=\"500\"/>\n",
    "    <p style=\"font-size: 10px; text-align : center;\">Img source : https://tinyurl.com/52tk9dnn</p>\n",
    "</center>\n",
    "<br>"
   ]
  },
  {
   "cell_type": "markdown",
   "metadata": {
    "id": "oCI0EpTBHusT"
   },
   "source": [
    "<p style=\"text-align: justify;\">Dash is one of the most trusted and widely used framework for building machine learning and data science web apps by Plotly.</p>\n",
    "\n",
    "<p style=\"text-align: justify;\">&nbsp;&nbsp;&nbsp;&nbsp;&nbsp;Plotly's Python graphing library makes interactive, publication-quality graphs. Plotly Dash is considered a python library, which is specificaly designed to build the web based data visualization application using python language. Python has taken over the world, and Dash enterprise is the leading vehicle for delivering Python analytics to business users.  With help of Dash Open Source, you can create data apps on your laptop in pure Python, without requiring any Javascript coding, and can also share them to others for data collaboration.</p>"
   ]
  },
  {
   "cell_type": "markdown",
   "metadata": {
    "id": "KV0FGWGTHusU"
   },
   "source": [
    "<h4 style=\"font-family: 'Arial', sans-serif;\">INTRODUCTION</h4>"
   ]
  },
  {
   "cell_type": "markdown",
   "metadata": {
    "id": "LS-918cCSr_P"
   },
   "source": [
    "<p style=\"text-align: justify;\">&nbsp;&nbsp;&nbsp;&nbsp;&nbsp;How can we effectively track and visualize the spread of COVID-19 in real-time, providing users with up-to-date and interactive dashboards? How can we analyze and visualize stock market trends to make informed investment decisions? How can we present complex climate change data in an accessible and engaging way to raise awareness and drive action?.....Matplotlib might be an answer, but its applications are limited and static with nearly no level of interactivity. We need something more advanced and easy to use. This is where Plotly from dash comes in...</p>\n",
    "\n",
    "<p style=\"text-align: justify;\">&nbsp;&nbsp;&nbsp;&nbsp;&nbsp;Dash from Plotly is a web application development framework built on top of frameworks and libraries like Flask, Plotly.js, and React.js, which is to be coded in Python, eliminating the requirement for any Javascript coding. It creates dynamic dashboards (a visual user interface that presents key information and metrics, i.e. the KPIs (Key Performance Indicators) in an organised manner) using pure Python. However, the syntax while writing the code somewhat represents the code as if it were written in HTML or JS; it is just that it is made simpler.</p>\n",
    "\n",
    "<p style=\"text-align: justify;\">&nbsp;&nbsp;&nbsp;&nbsp;&nbsp;The primary purpose of Dash from Plotly is to quickly implement a web interface and create dashboards with Plotly without having to learn javascript, HTML, and other web technologies, making them easy and quick for users. It is a high-level framework used to create beautiful analytical and interactive web-based visualisations, with minimal boilerplate code, that can be displayed in Jupyter notebooks using Dash by plotly. It is widely used due to its cross-platform compatibility, ie, dash apps are rendered in the browser, making them accessible to anyone on any device.</p>\n",
    "\n",
    "<p style=\"text-align: justify;\">&nbsp;&nbsp;&nbsp;&nbsp;&nbsp;Apart from this, it is mainly used by data scientists, developers, and businesses to analyse data quickly by building an interactive dashboard where they can easily create custom, visually appealing charts and graphs with high interactivity. It provides a way to combine different representations or views of extensive data and visualise it according to the requirements due to its interactive buildup.</p>"
   ]
  },
  {
   "cell_type": "markdown",
   "metadata": {
    "id": "GghdWF81HusU"
   },
   "source": [
    "<h4 style=\"font-family: 'Arial', sans-serif;\">INSTALATION AND SET UP</h4>"
   ]
  },
  {
   "cell_type": "markdown",
   "metadata": {
    "id": "FQ_yvg8LHusU"
   },
   "source": [
    "&nbsp;&nbsp;&nbsp;&nbsp;&nbsp;To install dash in python you have to enter the following command in your Jupyter or Colab notebook. (Can also be ran on Command prompt if you want use Dash through Python IDEs.)"
   ]
  },
  {
   "cell_type": "raw",
   "metadata": {
    "vscode": {
     "languageId": "raw"
    }
   },
   "source": [
    "!pip install -q dash                   # Installs the Dash framework\n",
    "# !pip install dash renderer          # required for older versions\n",
    "!pip install -q dash_html_components   # provides set of html components for creating dash layouts\n",
    "!pip install -q dash_core_components   # Installs the core components like droper, slidders,etc for interactive elements in dash\n",
    "!pip install -q dash_bootstrap_components   #includes advanced html components and also used to make tables\n",
    "# -q is to suppress the output of a !pip command, entirely optional"
   ]
  },
  {
   "cell_type": "markdown",
   "metadata": {
    "id": "ESPuY5KZW4HA"
   },
   "source": [
    "To start working with Dash, import the following libraries into your work environment:"
   ]
  },
  {
   "cell_type": "code",
   "execution_count": null,
   "metadata": {
    "colab": {
     "base_uri": "https://localhost:8080/"
    },
    "collapsed": true,
    "id": "ix4sEJkOHusV",
    "jupyter": {
     "outputs_hidden": true
    },
    "outputId": "03e89849-b62e-43ca-aee5-8b488bd7e7e4"
   },
   "outputs": [],
   "source": [
    "import dash\n",
    "import dash_core_components as dcc\n",
    "import dash_html_components as html\n",
    "from dash import callback, Dash\n",
    "\n",
    "import pandas as pd   #for data manipulation\n",
    "import plotly.express as px   #for data visualisation.....it gives better visualisation options\n",
    "#alternatively matplotlib can also be used."
   ]
  },
  {
   "cell_type": "markdown",
   "metadata": {
    "id": "nHDVLCUKtT38"
   },
   "source": [
    "<h4 style=\"font-family: 'Arial', sans-serif;\">Code Structure</h4>"
   ]
  },
  {
   "cell_type": "markdown",
   "metadata": {
    "id": "xSDh1Gvzso2U"
   },
   "source": [
    "<p style=\"text-align: justify;\">&nbsp;&nbsp;&nbsp;&nbsp;&nbsp;The structure of a dash app code is divided into mainly two parts, the Layout and the Callback. The layout defines how the app will look, what all components and features would be included, etc. Anything that can be seen on the app is layout. The callback part is what makes dash apps interactive. It includes taking inputs, producing respective outputs and all the processing and functions required in between. The below code summarises what a basic dash code looks like.</p>"
   ]
  },
  {
   "cell_type": "code",
   "execution_count": null,
   "metadata": {
    "id": "uzIagP715VEB"
   },
   "outputs": [],
   "source": [
    "app = dash.Dash()   #defining a dashboard\n",
    "app.layout = html.Div([\n",
    "    ## layout ##\n",
    "])\n",
    "@callback(\n",
    "    ## callback inputs and outputs ##\n",
    ")\n",
    "## callback functions ##\n",
    "\n",
    "if __name__ == '__main__':\n",
    "    app.run(debug=True)"
   ]
  },
  {
   "cell_type": "markdown",
   "metadata": {
    "id": "RWLvAD2UHusV"
   },
   "source": [
    "<h4 style=\"font-family: 'Arial', sans-serif;\">LAYOUT</h4>"
   ]
  },
  {
   "cell_type": "markdown",
   "metadata": {
    "id": "1Cf4okadHusW"
   },
   "source": [
    "<p style=\"text-align: justify;\">&nbsp;&nbsp;&nbsp;&nbsp;&nbsp;Layout is the structure of the web app we are developing. It shows which and where the elements like graphs, text button, input and output will be shown. Dash is a web app framework that provides pure Python abstraction around HTML, CSS, and JavaScript. Instead of writing in HTML, you can compose your layout using Python with the Dash HTML Components module (dash.html), and the components of the app would be defined by the dash-core-components. Lets take a deeper look upon this:</p>"
   ]
  },
  {
   "cell_type": "markdown",
   "metadata": {
    "id": "ULGqjgADPWMq"
   },
   "source": [
    "<h5 style=\"font-family: 'Arial', sans-serif;\">DASH-HTML-COMPONENTS</h5>"
   ]
  },
  {
   "cell_type": "markdown",
   "metadata": {
    "id": "NOxFTYA1PaRS"
   },
   "source": [
    "<p style=\"text-align: justify;\">&nbsp;&nbsp;&nbsp;&nbsp;&nbsp;These are used in a very similar way you use html, the codes and syntax is nearly the same, except you use html. instead of <> to define your tags. Thus we won't discuss more upon it here and keep our focus on the new dash functions and objects we are going to learn.</p>"
   ]
  },
  {
   "cell_type": "markdown",
   "metadata": {
    "id": "TWtEOaoKHusV"
   },
   "source": [
    "<h5 style=\"font-family: 'Arial', sans-serif;\">DASH-CORE-COMPONENTS</h5>"
   ]
  },
  {
   "cell_type": "markdown",
   "metadata": {
    "id": "tZPDBlYEHusV"
   },
   "source": [
    "<p style=\"text-align: justify;\">&nbsp;&nbsp;&nbsp;&nbsp;&nbsp;Lets see some of the different dash features which we create use using dash-core-components, includeing basic features like dropdown, sliders, checklists and interactive graphs. The Dash Core Components module (dash.dcc) gives you access to many interactive components, including dropdowns, checklists, and sliders. This all may be done for reading some large data sets, or building app layouts, and to produce components for giving back the output using callback (Callbacks are defined functionality within an app that are triggered by user interaction. More on it further down.)</p>"
   ]
  },
  {
   "cell_type": "markdown",
   "metadata": {
    "id": "8PE4J_Y2HusW"
   },
   "source": [
    "<h5 style=\"font-family: 'Arial', sans-serif;\">VISUAL LAYOUTS</h5>"
   ]
  },
  {
   "cell_type": "markdown",
   "metadata": {
    "id": "roNB53q2HusW"
   },
   "source": [
    "&nbsp;&nbsp;&nbsp;&nbsp;&nbsp;Visual layouts are the in built dash features used to make the app more interactive and visually appealing. This visual layouts contains features and components like:"
   ]
  },
  {
   "cell_type": "markdown",
   "metadata": {
    "id": "qAaUHhaKHusW"
   },
   "source": [
    "<h5 style=\"font-family: 'Arial', sans-serif;\">1. Dropdown</h5>"
   ]
  },
  {
   "cell_type": "code",
   "execution_count": null,
   "metadata": {
    "id": "wCF7Jdky6g7J"
   },
   "outputs": [],
   "source": [
    "dcc.Dropdown([\"Gujarat\", \"Maharashtra\", \"Rajasthan\", \"Delhi\", \"West Bengal\", \"Karnataka\"], \"Gujarat\") #Defines the layout of the app using a Div container to hold UI components."
   ]
  },
  {
   "cell_type": "markdown",
   "metadata": {
    "id": "CTVB1H-96lAU"
   },
   "source": [
    "This is an example of a dropdown with some states as options and the default value as Gujarat."
   ]
  },
  {
   "cell_type": "markdown",
   "metadata": {
    "id": "ZWW0DSMoHusW"
   },
   "source": [
    "<h5 style=\"font-family: 'Arial', sans-serif;\">2. Slider</h5>"
   ]
  },
  {
   "cell_type": "code",
   "execution_count": null,
   "metadata": {
    "id": "NhUNyKSe6162"
   },
   "outputs": [],
   "source": [
    "dcc.Slider(-5, 10, 1, value=-3)"
   ]
  },
  {
   "cell_type": "markdown",
   "metadata": {
    "id": "_L94oyuoHusW"
   },
   "source": [
    "In the slider we can also can also specify the range of values instead of a single value and such sliders are known as range sliders"
   ]
  },
  {
   "cell_type": "markdown",
   "metadata": {
    "id": "rJRwMeWrHusX"
   },
   "source": [
    "<h5 style=\"font-family: 'Arial', sans-serif;\">3. Checkboxes</h5>"
   ]
  },
  {
   "cell_type": "code",
   "execution_count": null,
   "metadata": {
    "id": "VaOfdfx37Dit"
   },
   "outputs": [],
   "source": [
    "dcc.Checklist([\"Gujarat\", \"Maharashtra\", \"Rajasthan\", \"Delhi\", \"West Bengal\", \"Karnataka\"],      # makes the checklist of the items in the list, they may be shown in line using inline(True)\n",
    "                  [\"Gujarat\",\"Delhi\"]) ## Gujarat and Delhi will be chosen by default"
   ]
  },
  {
   "cell_type": "markdown",
   "metadata": {
    "id": "1fdDgesNHusX"
   },
   "source": [
    "<h5 style=\"font-family: 'Arial', sans-serif;\">4.  Buttons</h5>"
   ]
  },
  {
   "cell_type": "markdown",
   "metadata": {
    "id": "I7b2tKNG7rFF"
   },
   "source": [
    "&nbsp;&nbsp;&nbsp;&nbsp;&nbsp;The below code not only shows the use of button as a dcc feature, but also gives a idea of a dash code and a very naive glimpse of some other functionalities possible thorough dash, some of which are discussed later in the blog."
   ]
  },
  {
   "cell_type": "code",
   "execution_count": 8,
   "metadata": {
    "colab": {
     "base_uri": "https://localhost:8080/",
     "height": 672
    },
    "id": "UPVUZ-Eu8LmT",
    "outputId": "b289c702-2e6b-4200-a50f-ea83790ba0a5"
   },
   "outputs": [
    {
     "data": {
      "application/javascript": "(async (port, path, width, height, cache, element) => {\n    if (!google.colab.kernel.accessAllowed && !cache) {\n      return;\n    }\n    element.appendChild(document.createTextNode(''));\n    const url = await google.colab.kernel.proxyPort(port, {cache});\n    const iframe = document.createElement('iframe');\n    iframe.src = new URL(path, url).toString();\n    iframe.height = height;\n    iframe.width = width;\n    iframe.style.border = 0;\n    iframe.allow = [\n        'accelerometer',\n        'autoplay',\n        'camera',\n        'clipboard-read',\n        'clipboard-write',\n        'gyroscope',\n        'magnetometer',\n        'microphone',\n        'serial',\n        'usb',\n        'xr-spatial-tracking',\n    ].join('; ');\n    element.appendChild(iframe);\n  })(4999, \"/\", \"100%\", 650, false, window.element)",
      "text/plain": [
       "<IPython.core.display.Javascript object>"
      ]
     },
     "metadata": {},
     "output_type": "display_data"
    }
   ],
   "source": [
    "from dash import Input, Output, State # imports important components which are useful in building the web app, handling callbacks and managing the user interaction\n",
    "\n",
    "# importing the external style sheet which helps in styling the app\n",
    "external_stylesheets = ['https://codepen.io/chriddyp/pen/bWLwgP.css']\n",
    "\n",
    "app4 = Dash(__name__, external_stylesheets=external_stylesheets)  # initializes\n",
    "app4.layout = html.Div([\n",
    "    html.Div(dcc.Input(id='input-box', type='text')),  # Creates a text input field where users can enter values\n",
    "    html.Button('Submit', id='button-example-1'),   # creates the button named submit to trigger the action\n",
    "    html.Div(id='output-container-button',                   #Creates a div to display output messages.\n",
    "             children='Enter a value and press submit')\n",
    "])\n",
    "\n",
    "# defining the callback function which updates the value of the output\n",
    "@callback(\n",
    "    Output('output-container-button', 'children'),   # Specifies that the callback updates the text inside the output div\n",
    "    Input('button-example-1', 'n_clicks'),  # trigger\n",
    "    State('input-box', 'value')) # takes the input value when triggered\n",
    "\n",
    "# defining the function to update the output message based on the input\n",
    "def update_output(n_clicks, value):\n",
    "    return 'The assignment was of \"{}\" and the button has been clicked {} times'.format(\n",
    "        value,\n",
    "        n_clicks\n",
    "    )\n",
    "\n",
    "if __name__ == '__main__':\n",
    "    app4.run(debug=True, port = 4999)"
   ]
  },
  {
   "cell_type": "markdown",
   "metadata": {
    "id": "gx8UQWkYHusX"
   },
   "source": [
    "&nbsp;&nbsp;&nbsp;&nbsp;&nbsp;Apart from this, there are many other visual components feature which can be used in dash. The offcial dash tutorial can be referred to learn more about them.\n",
    "\n",
    "<p style=\"text-align: justify;\">&nbsp;&nbsp;&nbsp;&nbsp;&nbsp;All the components here should also have a parameter called id, which will be referred to as component_id in the callback, if more than once a same type of component is used and referred in the callback. You can define the id = 'any string' for each of these dcc components. An example is shown below. These work as identities for each layout component so you can later refer to them in the callback decorator and callback functions.</p>"
   ]
  },
  {
   "cell_type": "code",
   "execution_count": null,
   "metadata": {
    "id": "VgAbft2rWRgn"
   },
   "outputs": [],
   "source": [
    "dcc.Slider(-5, 10, 1, value=-3, id = 'slider1')"
   ]
  },
  {
   "cell_type": "markdown",
   "metadata": {
    "id": "fTpvVrznHusX"
   },
   "source": [
    "<h5 style=\"font-family: 'Arial', sans-serif;\">OUTPUT COMPONENTS</h5>"
   ]
  },
  {
   "cell_type": "markdown",
   "metadata": {
    "id": "pHJ0i242HusX"
   },
   "source": [
    "Output components display results dynamically in Dash apps. It may contain the graphs, images, tables in it."
   ]
  },
  {
   "cell_type": "markdown",
   "metadata": {
    "id": "AgHxAX0w-9uo"
   },
   "source": [
    "<h5 style=\"font-family: 'Arial', sans-serif;\">Tables</h5>"
   ]
  },
  {
   "cell_type": "code",
   "execution_count": 9,
   "metadata": {
    "colab": {
     "base_uri": "https://localhost:8080/",
     "height": 672
    },
    "id": "8QZ32M03HusX",
    "outputId": "b00cf2d0-9b9c-4958-9fc7-cfec9fbb0ccc"
   },
   "outputs": [
    {
     "data": {
      "application/javascript": "(async (port, path, width, height, cache, element) => {\n    if (!google.colab.kernel.accessAllowed && !cache) {\n      return;\n    }\n    element.appendChild(document.createTextNode(''));\n    const url = await google.colab.kernel.proxyPort(port, {cache});\n    const iframe = document.createElement('iframe');\n    iframe.src = new URL(path, url).toString();\n    iframe.height = height;\n    iframe.width = width;\n    iframe.style.border = 0;\n    iframe.allow = [\n        'accelerometer',\n        'autoplay',\n        'camera',\n        'clipboard-read',\n        'clipboard-write',\n        'gyroscope',\n        'magnetometer',\n        'microphone',\n        'serial',\n        'usb',\n        'xr-spatial-tracking',\n    ].join('; ');\n    element.appendChild(iframe);\n  })(5000, \"/\", \"100%\", 650, false, window.element)",
      "text/plain": [
       "<IPython.core.display.Javascript object>"
      ]
     },
     "metadata": {},
     "output_type": "display_data"
    }
   ],
   "source": [
    "import dash.dash_table as dt\n",
    "\n",
    "df = pd.DataFrame({\n",
    "    \"Name\": ['Dhrumil','Ujas','Dhanraj','Devarsh','Rishabh'],\n",
    "    \"Marks\": [35,37,33,40,38]\n",
    "})\n",
    "\n",
    "app1 = dash.Dash()\n",
    "app1.layout = html.Div([\n",
    "    dt.DataTable(id=\"output-table\", data=df.to_dict(\"records\"), columns=[{\"name\": i, \"id\": i} for i in df.columns], style_cell={'textAlign': 'center'})\n",
    "])\n",
    "\n",
    "# Here 'id' assigns an ID to the table which could be later be helpful in the callback. It is also used to distinguish between multiple components as discussed before\n",
    "\n",
    "if __name__ == '__main__':\n",
    "    app1.run(debug=True, port = 5000)"
   ]
  },
  {
   "cell_type": "markdown",
   "metadata": {
    "id": "oKxdh-qFHusX"
   },
   "source": [
    "<h5 style=\"font-family: 'Arial', sans-serif;\">Graphs</h5>"
   ]
  },
  {
   "cell_type": "code",
   "execution_count": 10,
   "metadata": {
    "colab": {
     "base_uri": "https://localhost:8080/",
     "height": 672
    },
    "id": "ZNl6cQQgHusX",
    "outputId": "1a0627d2-ff19-4f0d-f9a5-738bd2fe6cdf"
   },
   "outputs": [
    {
     "data": {
      "application/javascript": "(async (port, path, width, height, cache, element) => {\n    if (!google.colab.kernel.accessAllowed && !cache) {\n      return;\n    }\n    element.appendChild(document.createTextNode(''));\n    const url = await google.colab.kernel.proxyPort(port, {cache});\n    const iframe = document.createElement('iframe');\n    iframe.src = new URL(path, url).toString();\n    iframe.height = height;\n    iframe.width = width;\n    iframe.style.border = 0;\n    iframe.allow = [\n        'accelerometer',\n        'autoplay',\n        'camera',\n        'clipboard-read',\n        'clipboard-write',\n        'gyroscope',\n        'magnetometer',\n        'microphone',\n        'serial',\n        'usb',\n        'xr-spatial-tracking',\n    ].join('; ');\n    element.appendChild(iframe);\n  })(5001, \"/\", \"100%\", 650, false, window.element)",
      "text/plain": [
       "<IPython.core.display.Javascript object>"
      ]
     },
     "metadata": {},
     "output_type": "display_data"
    }
   ],
   "source": [
    "app2 = dash.Dash(__name__)\n",
    "\n",
    "# Load the iris dataset\n",
    "\n",
    "df = px.data.iris()\n",
    "\n",
    "# Create a scatter plot\n",
    "\n",
    "fig = px.scatter(df, x=\"sepal_width\", y=\"sepal_length\") #matplotlib can also be used here\n",
    "\n",
    "# Define the app layout\n",
    "\n",
    "app2.layout = html.Div([\n",
    "    html.H1(\"Iris Scatter Plot\"), #equivalent to <h1></h1>\n",
    "    dcc.Graph(figure=fig)\n",
    "])\n",
    "\n",
    "# Run the Dash app\n",
    "\n",
    "if __name__ == '__main__':\n",
    "    app2.run_server(debug=True, port = 5001)"
   ]
  },
  {
   "cell_type": "markdown",
   "metadata": {
    "id": "zSRKOhpjAdJJ"
   },
   "source": [
    "&nbsp;&nbsp;&nbsp;&nbsp;&nbsp;Remember to use different ports if you are working on two or more dash codes simultaneously, else they could overlap and affect each others outputs, ie, they will show the same app. Understand it in the way that each port can have one dash app code running.\n",
    "\n",
    "<p style=\"text-align: justify;\">&nbsp;&nbsp;&nbsp;&nbsp;&nbsp;These are some basic features of the dash-core-components which can be used to make the app more interactive. These are very basic features and are used very frequently while doing dash on a larger scale. Nonetheless, there are many other key features which are very helpful in making the app more interactive and human friendly. Do refer the official tutorial for more.</p>"
   ]
  },
  {
   "cell_type": "markdown",
   "metadata": {
    "id": "qqqy6TZuHusY"
   },
   "source": [
    "<h5 style=\"font-family: 'Arial', sans-serif;\">TABLE LAYOUTS (using dbc)</h5>"
   ]
  },
  {
   "cell_type": "code",
   "execution_count": 11,
   "metadata": {
    "colab": {
     "base_uri": "https://localhost:8080/",
     "height": 672
    },
    "id": "D4ziaNA7HusY",
    "outputId": "09ab2478-3b8d-49e5-8d6d-2de369e3843f"
   },
   "outputs": [
    {
     "data": {
      "application/javascript": "(async (port, path, width, height, cache, element) => {\n    if (!google.colab.kernel.accessAllowed && !cache) {\n      return;\n    }\n    element.appendChild(document.createTextNode(''));\n    const url = await google.colab.kernel.proxyPort(port, {cache});\n    const iframe = document.createElement('iframe');\n    iframe.src = new URL(path, url).toString();\n    iframe.height = height;\n    iframe.width = width;\n    iframe.style.border = 0;\n    iframe.allow = [\n        'accelerometer',\n        'autoplay',\n        'camera',\n        'clipboard-read',\n        'clipboard-write',\n        'gyroscope',\n        'magnetometer',\n        'microphone',\n        'serial',\n        'usb',\n        'xr-spatial-tracking',\n    ].join('; ');\n    element.appendChild(iframe);\n  })(5002, \"/\", \"100%\", 650, false, window.element)",
      "text/plain": [
       "<IPython.core.display.Javascript object>"
      ]
     },
     "metadata": {},
     "output_type": "display_data"
    }
   ],
   "source": [
    "import dash_bootstrap_components as dbc\n",
    "\n",
    "# Initialize the app with Bootstrap\n",
    "\n",
    "app5 = dash.Dash(__name__, external_stylesheets=[dbc.themes.BOOTSTRAP])\n",
    "\n",
    "# Layout with styled rows and columns\n",
    "\n",
    "app5.layout = dbc.Container([\n",
    "    dbc.Row([\n",
    "        dbc.Col(html.Div(\"Column 1 - Row 1\", className=\"p-3 border text-center\"), width=4),\n",
    "        dbc.Col(html.Div(\"Column 2 - Row 1\", className=\"p-3 border text-center\"), width=4),\n",
    "        dbc.Col(html.Div(\"Column 3 - Row 1\", className=\"p-3 border text-center\"), width=4)\n",
    "    ], className=\"mb-3 bg-warning\"),  # Yellow row\n",
    "    dbc.Row([\n",
    "        dbc.Col(html.Div(\"Column 1 - Row 2\", className=\"p-3 border text-center\"), width=6),\n",
    "        dbc.Col(html.Div(\"Column 2 - Row 2\", className=\"p-3 border text-center\"), width=6)\n",
    "    ], className=\"mb-3 bg-warningy\"),  # Yellow row\n",
    "    dbc.Row([\n",
    "        dbc.Col(html.Div(\"Full-width Column in Row 3\", className=\"p-3 border text-center\"), width=12)\n",
    "    ], className=\"bg-warning\")  # Blue row\n",
    "], fluid=True, style={\"background-color\": \" #00FF00\"})  # Green background for columns\n",
    "\n",
    "# Run the app\n",
    "if __name__ == \"__main__\":\n",
    "    app5.run_server(debug=True, port = 5002)"
   ]
  },
  {
   "cell_type": "markdown",
   "metadata": {
    "id": "3GyAdvEHEvIG"
   },
   "source": [
    "&nbsp;&nbsp;&nbsp;&nbsp;&nbsp;You can also stylize the divisions and subdivisions created by html.div using codes as follows, which are similar to how we style div tags in html. You have to just place code pieces like this (include and exclude parameters you want and don't) before the end of html.div."
   ]
  },
  {
   "cell_type": "code",
   "execution_count": null,
   "metadata": {
    "id": "K4A_UNhtFXyU"
   },
   "outputs": [],
   "source": [
    "style={'width': '49%', 'display': 'inline-block', 'padding': '0 20'})"
   ]
  },
  {
   "cell_type": "markdown",
   "metadata": {
    "id": "jk1qsw5WFkh8"
   },
   "source": [
    "&nbsp;&nbsp;&nbsp;&nbsp;&nbsp;Don't forget do refer the official tutorial and continue learning about new components in layouts....there are a plenty."
   ]
  },
  {
   "cell_type": "markdown",
   "metadata": {
    "id": "lUmyvh6tHusY"
   },
   "source": [
    "<h4 style=\"font-family: 'Arial', sans-serif;\">CALLBACK</h4>"
   ]
  },
  {
   "cell_type": "markdown",
   "metadata": {
    "id": "dy3hVkouHusg"
   },
   "source": [
    "&nbsp;&nbsp;&nbsp;&nbsp;&nbsp;Callback is the interactivity in the dash app. It connects the components from the layout part of the code to the output making it interactive for the user.\n",
    "Callback is made of 2 different sections: callback decorator and callback function."
   ]
  },
  {
   "cell_type": "markdown",
   "metadata": {
    "id": "GvWKJycwOeQb"
   },
   "source": [
    "<h5 style=\"font-family: 'Arial', sans-serif;\">Callback Decorator:</h5>"
   ]
  },
  {
   "cell_type": "markdown",
   "metadata": {
    "id": "hZbUGPI6Ohmb"
   },
   "source": [
    "<p style=\"text-align: justify;\">&nbsp;&nbsp;&nbsp;&nbsp;&nbsp;It is the part of callback that defines Input and Output for the ineteractivity required. It will always have minimum 2 arguments, which are input and output. It can of course have multiple inputs and multiple outputs, but it will have always have minimum one input and one output argument in it.\n",
    "These input and output components contain the component id(which tells which component to listen too, ie, which component to take input from and which to use for giving outputs) and component property(which property or parameter of the component to listen to). The components used here are the same as those created in the layout section. Any component you want to use here must be first created in the layout.</p>"
   ]
  },
  {
   "cell_type": "markdown",
   "metadata": {
    "id": "tRkXerElOs02"
   },
   "source": [
    "<h5 style=\"font-family: 'Arial', sans-serif;\">Callback Function:</h5>"
   ]
  },
  {
   "cell_type": "markdown",
   "metadata": {
    "id": "xROj68AYOvuP"
   },
   "source": [
    "<p style=\"text-align: justify;\">&nbsp;&nbsp;&nbsp;&nbsp;&nbsp;Every input and output inside the callback decorator has to be represented in the callback function. Ellaborating, there can be as many functions that you want in the callback function section, each taking the defined inputs and outputs in order, but should cover all the inputs and outputs defined. There are two things to note and remeber here, one, all inputs and outputs are to be used as parameters and return respectively, and second, they are to be used in order, which also means that you cannot use any input or output more than once. Each output must be unique to a single callback to avoid conflicts and ensure proper updates. The inputs would go into the parameters according to their order and the return values would be assigned to outputs in order.</p>"
   ]
  },
  {
   "cell_type": "code",
   "execution_count": null,
   "metadata": {
    "id": "2JBY9TLAMOzW"
   },
   "outputs": [],
   "source": [
    "Output(component_id = {}, component_property = {})\n",
    "Input(component_id = {}, component_property = {})"
   ]
  },
  {
   "cell_type": "markdown",
   "metadata": {
    "id": "3qK4MD7pMNbh"
   },
   "source": [
    "While defining the Outputs and the Inputs, we can define them by using component_id = {the id for that defined in layout}, to use the same type of component multiple times. The below code does not explicitly use this as there is only one component (Input).\n",
    "\n",
    "Let us practically see the application of callback in a dash code."
   ]
  },
  {
   "cell_type": "code",
   "execution_count": 12,
   "metadata": {
    "colab": {
     "base_uri": "https://localhost:8080/",
     "height": 672
    },
    "id": "pCvoRDkwHusg",
    "outputId": "e71cff29-0bfd-49ff-a7e1-ecf9acf668f2"
   },
   "outputs": [
    {
     "data": {
      "application/javascript": "(async (port, path, width, height, cache, element) => {\n    if (!google.colab.kernel.accessAllowed && !cache) {\n      return;\n    }\n    element.appendChild(document.createTextNode(''));\n    const url = await google.colab.kernel.proxyPort(port, {cache});\n    const iframe = document.createElement('iframe');\n    iframe.src = new URL(path, url).toString();\n    iframe.height = height;\n    iframe.width = width;\n    iframe.style.border = 0;\n    iframe.allow = [\n        'accelerometer',\n        'autoplay',\n        'camera',\n        'clipboard-read',\n        'clipboard-write',\n        'gyroscope',\n        'magnetometer',\n        'microphone',\n        'serial',\n        'usb',\n        'xr-spatial-tracking',\n    ].join('; ');\n    element.appendChild(iframe);\n  })(5051, \"/\", \"100%\", 650, false, window.element)",
      "text/plain": [
       "<IPython.core.display.Javascript object>"
      ]
     },
     "metadata": {},
     "output_type": "display_data"
    }
   ],
   "source": [
    "app = dash.Dash()\n",
    "# layout\n",
    "app.layout = html.Div([\n",
    "    dcc.Input(            # Here we create the input field with ID 'num-multi' which has its default value has 5\n",
    "        id='num-multi',\n",
    "        type='number',\n",
    "        value=5\n",
    "    ),\n",
    "    html.Table([                                                         # html.Tr makes the changes in the row\n",
    "        html.Tr([html.Td(['x', html.Sup(2)]), html.Td(id='square')]),\n",
    "        html.Tr([html.Td(['x', html.Sup(3)]), html.Td(id='cube')]),\n",
    "        html.Tr([html.Td([2, html.Sup('x')]), html.Td(id='twos')]),\n",
    "        html.Tr([html.Td([3, html.Sup('x')]), html.Td(id='threes')]),\n",
    "        html.Tr([html.Td(['x', html.Sup('x')]), html.Td(id='x^x')]),\n",
    "    ]),\n",
    "])\n",
    "\n",
    "# It is the callback operator, which will listen to the changes in \"num-multi\" input and updates five output elements.And they need to be in the same order as given in the input.\n",
    "@callback(\n",
    "    Output('square', 'children'),\n",
    "    Output('cube', 'children'),\n",
    "    Output('twos', 'children'),\n",
    "    Output('threes', 'children'),\n",
    "    Output('x^x', 'children'),\n",
    "    Input('num-multi', 'value'))\n",
    "# THis is the callback function, this will recieve the input value from the user and return the output\n",
    "def callback_a(x):   # x is taken to be the only input defined\n",
    "    return x**2, x**3, 2**x, 3**x, x**x     # All these will go into the outputs as defined according to their order.\n",
    "\n",
    "if __name__ == '__main__':\n",
    "    app.run(port=5051)\n"
   ]
  },
  {
   "cell_type": "markdown",
   "metadata": {
    "id": "QpHz9D3-OgkK"
   },
   "source": [
    "Explanation of the Above Code:\n",
    "\n",
    "1. First, we initialize a dashboard named app.\n",
    "\n",
    "2. Next, we define the app layout, which includes various input components. Each input component has attributes such as `id`, `type`, and `value`. The `id='num-multi'` allows Dash to track changes, and `value=5` sets the initial value to 5.\n",
    "\n",
    "3. For the layout, we create a table using `html.table`. To define the rows of the table, we use `html.Tr`, and to specify the cells within those rows, we use `html.Td`.\n",
    "\n",
    "4. We then specify the callback decorator, which includes input and output components. The input component identifies the `id` and `value`, and it listens for changes in the input number. The output component indicates which table cell will be updated in response to these changes.\n",
    "\n",
    "5. Finally, we implement the callback function. This function is automatically triggered whenever the user inputs a new number, and it produces the corresponding output."
   ]
  },
  {
   "cell_type": "markdown",
   "metadata": {
    "id": "vtRCiM_mChbL"
   },
   "source": [
    "<h4 style=\"font-family: 'Arial', sans-serif;\">Hands on example of using dash</h4>"
   ]
  },
  {
   "cell_type": "markdown",
   "metadata": {
    "id": "QtN8mlS6CugK"
   },
   "source": [
    "Dash is used to make interactive apps, so here we have created an interactive graph which shows the changes as we change the input from the dropdown."
   ]
  },
  {
   "cell_type": "code",
   "execution_count": 4,
   "metadata": {
    "colab": {
     "base_uri": "https://localhost:8080/",
     "height": 672
    },
    "id": "srtXu9rOpdPr",
    "outputId": "227b4a43-7dcb-4f74-90ac-6518c568e1c6"
   },
   "outputs": [
    {
     "data": {
      "application/javascript": "(async (port, path, width, height, cache, element) => {\n    if (!google.colab.kernel.accessAllowed && !cache) {\n      return;\n    }\n    element.appendChild(document.createTextNode(''));\n    const url = await google.colab.kernel.proxyPort(port, {cache});\n    const iframe = document.createElement('iframe');\n    iframe.src = new URL(path, url).toString();\n    iframe.height = height;\n    iframe.width = width;\n    iframe.style.border = 0;\n    iframe.allow = [\n        'accelerometer',\n        'autoplay',\n        'camera',\n        'clipboard-read',\n        'clipboard-write',\n        'gyroscope',\n        'magnetometer',\n        'microphone',\n        'serial',\n        'usb',\n        'xr-spatial-tracking',\n    ].join('; ');\n    element.appendChild(iframe);\n  })(1007, \"/\", \"100%\", 650, false, window.element)",
      "text/plain": [
       "<IPython.core.display.Javascript object>"
      ]
     },
     "metadata": {},
     "output_type": "display_data"
    }
   ],
   "source": [
    "import dash\n",
    "from dash import dcc, html, Input, Output\n",
    "import plotly.express as px\n",
    "import pandas as pd\n",
    "from sklearn.datasets import load_iris\n",
    "\n",
    "# Load Iris dataset\n",
    "iris = load_iris()\n",
    "df = pd.DataFrame(data=iris.data, columns=iris.feature_names)\n",
    "df['species'] = iris.target\n",
    "\n",
    "# Create Dash app\n",
    "app = dash.Dash(__name__)\n",
    "\n",
    "# Layout\n",
    "app.layout = html.Div([\n",
    "    html.H1(\"Iris Dataset Visualization\"),\n",
    "    dcc.Dropdown(\n",
    "        id='feature-dropdown',\n",
    "        options=[\n",
    "            {'label': feature, 'value': feature}\n",
    "            for feature in iris.feature_names\n",
    "        ],\n",
    "        value=iris.feature_names[0]\n",
    "    ),\n",
    "    dcc.Graph(id='feature-graph')\n",
    "])\n",
    "\n",
    "# Callback to update graph\n",
    "@app.callback(\n",
    "    Output('feature-graph', 'figure'),\n",
    "    [Input('feature-dropdown', 'value')]\n",
    ")\n",
    "def update_graph(selected_feature):\n",
    "    fig = px.scatter(\n",
    "        df,\n",
    "        x=selected_feature,\n",
    "        y='species',\n",
    "        color='species',\n",
    "        labels={'species': 'Species'},\n",
    "        title=f'{selected_feature} vs. Species'\n",
    "    )\n",
    "    return fig\n",
    "\n",
    "# Run app\n",
    "if __name__ == '__main__':\n",
    "    app.run_server(debug=True, port = 1007)"
   ]
  },
  {
   "cell_type": "markdown",
   "metadata": {
    "id": "VSmWGGvpbljq"
   },
   "source": [
    "This is a simple dash code that interactively displays a scatter plot of the selected feature against the species. The dropdown allows you to select different features from the Iris dataset, and the graph updates accordingly.\n",
    "\n",
    "If you wish to make good and proper dash apps, you will have to use python IDES instead of jupyter or colab. In that case, upon saving and running the code, you will get a url like http://127.0.0.1:8050/ (8050 is the port, it is the default port but you can change it as discussed earlier) where your dash app will be running live."
   ]
  },
  {
   "cell_type": "markdown",
   "metadata": {
    "id": "j3RKMatscpYu"
   },
   "source": [
    "<h4 style=\"font-family: 'Arial', sans-serif;\">Conclusion</h4>"
   ]
  },
  {
   "cell_type": "markdown",
   "metadata": {
    "id": "3BGBRF1GcsS7"
   },
   "source": [
    "What we have seen till now is just a glimpse of what you can do with dash from plotly. It has numerous more beautiful and engaging components. So don't forget to keep referring to the official tutorial and continue learning more dash functions and objects.\n",
    "\n",
    "<p style=\"text-align: justify;\">Dash from Plotly changes how data scientists and analysts look at and understand data. It's an easy-to-use, open-source tool that works well with popular data libraries, allowing users to build interactive web apps without much hassle. No matter if you're an experienced programmer or just starting out, Dash offers clear instructions, community help, and user-friendliness, making it a great choice for turning data into interesting stories. As you start using Dash, you'll find that the only limits to what you can visualize are your own creativity.</p>"
   ]
  }
 ],
 "metadata": {
  "colab": {
   "provenance": []
  },
  "kernelspec": {
   "display_name": "Python 3",
   "language": "python",
   "name": "python3"
  },
  "language_info": {
   "codemirror_mode": {
    "name": "ipython",
    "version": 3
   },
   "file_extension": ".py",
   "mimetype": "text/x-python",
   "name": "python",
   "nbconvert_exporter": "python",
   "pygments_lexer": "ipython3",
   "version": "3.12.9"
  }
 },
 "nbformat": 4,
 "nbformat_minor": 4
}
